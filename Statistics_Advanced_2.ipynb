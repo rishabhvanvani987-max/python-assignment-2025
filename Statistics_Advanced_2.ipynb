{
  "nbformat": 4,
  "nbformat_minor": 0,
  "metadata": {
    "colab": {
      "provenance": []
    },
    "kernelspec": {
      "name": "python3",
      "display_name": "Python 3"
    },
    "language_info": {
      "name": "python"
    }
  },
  "cells": [
    {
      "cell_type": "markdown",
      "source": [
        "# **Statistics Advanced - 1**"
      ],
      "metadata": {
        "id": "kZi9y2U7_mO4"
      }
    },
    {
      "cell_type": "markdown",
      "source": [
        "Question 1: What is a random variable in probability theory?\n",
        " - random variable in probability theory is a variable whose possible values are determined by the outcomes of a random experiment.\n",
        "Formally, it is a function that maps each outcome of a sample space to a numerical value.\n",
        "\n",
        "\n",
        "It allows us to work with random events using mathematics, by assigning numbers to outcomes.\n",
        "\n"
      ],
      "metadata": {
        "id": "lJUgO9GLARXn"
      }
    },
    {
      "cell_type": "markdown",
      "source": [
        "Question 2: What are the types of random variables?\n",
        " - Types:\n",
        "Discrete Random Variable – takes a countable number of values.\n",
        " Example: Number of heads in 5 coin tosses → {0,1,2,3,4,5}.\n",
        "\n",
        "\n",
        "Continuous Random Variable – takes infinitely many values within an interval.\n",
        " Example: The time taken for a computer to complete a task (could be any real number ≥ 0).\n",
        "\n"
      ],
      "metadata": {
        "id": "0ptlqQXEA2E-"
      }
    },
    {
      "cell_type": "markdown",
      "source": [
        "Question 3: Explain the difference between discrete and continuous distributions.\n",
        " - 1. Discrete Distribution\n",
        "Deals with discrete random variables (countable outcomes).\n",
        "\n",
        "\n",
        "Probability is assigned to individual values.\n",
        "\n",
        "\n",
        "Represented by Probability Mass Function (PMF).\n",
        "\n",
        "\n",
        "Example: Binomial distribution (number of heads in 5 coin tosses).\n",
        "\n",
        "\n",
        "\n",
        "2. Continuous Distribution\n",
        "Deals with continuous random variables (uncountable outcomes).\n",
        "\n",
        "\n",
        "Probability of any single exact value is zero; probabilities are assigned over intervals.\n",
        "\n",
        "\n",
        "Represented by Probability Density Function (PDF).\n",
        "\n",
        "\n",
        "Example: Normal distribution (heights of people, exam scores).\n",
        "\n"
      ],
      "metadata": {
        "id": "pgmpX7pCA6ZP"
      }
    },
    {
      "cell_type": "markdown",
      "source": [
        "Question 4: What is a binomial distribution, and how is it used in probability?\n",
        " - A binomial distribution is a type of probability distribution that models the number of successes in a fixed number of independent trials, where each trial has only two possible outcomes: success or failure.\n",
        "\n",
        "Key Characteristics:\n",
        "Fixed number of trials (n).\n",
        "\n",
        "\n",
        "Each trial has only two outcomes (success/failure).\n",
        "\n",
        "\n",
        "Probability of success (p) remains constant in every trial.\n",
        "\n",
        "\n",
        "Trials are independent of each other.\n",
        "\n",
        "\n",
        "Probability Formula:\n",
        "\n",
        "N = number of trials\n",
        "\n",
        "\n",
        "K = number of successes\n",
        "\n",
        "\n",
        "P = probability of success\n",
        "\n",
        "\n",
        "1−p1-p1−p = probability of failure\n"
      ],
      "metadata": {
        "id": "8y32a4ABA70d"
      }
    },
    {
      "cell_type": "markdown",
      "source": [
        "Question 5: What is the standard normal distribution, and why is it important?\n",
        " - ANS:-  The standard normal distribution is a special case of the normal distribution where:\n",
        "The mean (μ) = 0\n",
        "\n",
        "\n",
        "The standard deviation (σ) = 1\n",
        "\n",
        "\n",
        "It is bell-shaped and symmetric about the mean.\n",
        "\n",
        "\n",
        "The variable that follows this distribution is called the standard normal variable (Z), and values are often referred to as z-scores.\n",
        "\n",
        "Why it is important?\n",
        "Simplifies calculations – Any normal distribution can be converted into the standard normal using\n",
        "\n",
        "Widely used in statistics – for hypothesis testing, confidence intervals, and control charts.\n",
        "\n",
        "\n",
        "Probability tables (Z-tables) – provide cumulative probabilities for the standard normal, making it easy to find probabilities for any normal distribution.\n",
        "\n",
        "\n",
        "Foundation for inferential statistics – many statistical methods assume normality."
      ],
      "metadata": {
        "id": "CD0xfNTUBEYG"
      }
    },
    {
      "cell_type": "markdown",
      "source": [
        "Question 6: What is the Central Limit Theorem (CLT), and why is it critical in statistics?\n",
        " - ANS:- The CLT states that:\n",
        "When we take many random samples of sufficiently large size nnn from any population (with mean μ\\muμ and finite variance σ2\\sigma^2σ2), the sampling distribution of the sample mean will be approximately normal, regardless of the original population’s distribution.\n",
        "\n",
        "Why it is Critical?\n",
        "Foundation of Inferential Statistics – It allows us to use the normal distribution to make conclusions about population means, even if the population itself is not normal.\n",
        "\n",
        "\n",
        "Practical Use – With large enough sample sizes (usually n≥30n \\geq 30n≥30), the sample mean behaves like a normal variable.\n",
        "\n",
        "\n",
        "Supports Confidence Intervals & Hypothesis Testing – Enables calculation of probabilities and critical values.\n",
        "\n",
        "\n",
        "Universal Applicability – Works for many types of data (finance, manufacturing, surveys, etc.).\n"
      ],
      "metadata": {
        "id": "IR1wLaMKBKZn"
      }
    },
    {
      "cell_type": "markdown",
      "source": [
        "Question 7: What is the significance of confidence intervals in statistical analysis?\n",
        " - ANS:- A confidence interval (CI) is a range of values, calculated from sample data, that is likely to contain the true population parameter (like mean or proportion) with a certain level of confidence.\n",
        "\n",
        "Significance of Confidence Intervals\n",
        "Provides an Estimate with Precision\n",
        "\n",
        "\n",
        "Instead of giving just a single point estimate (e.g., sample mean = 50), a CI gives a range (e.g., 47 to 53) showing the possible values of the population parameter.\n",
        "\n",
        "\n",
        "Accounts for Sampling Error\n",
        "\n",
        "\n",
        "Acknowledges uncertainty in sample data and adjusts for variability.\n",
        "\n",
        "\n",
        "Connects to Probability\n",
        "\n",
        "\n",
        "A 95% CI means: if we repeatedly take samples and build CIs, about 95% of them will capture the true population parameter.\n",
        "\n",
        "\n",
        "Supports Decision-Making\n",
        "\n",
        "\n",
        "Widely used in research, business, and quality control to judge reliability of results.\n"
      ],
      "metadata": {
        "id": "LfGY-ZjBBR1Y"
      }
    },
    {
      "cell_type": "markdown",
      "source": [
        "Question 8: What is the concept of expected value in a probability distribution?\n",
        " - ANS:- The expected value (EV) of a probability distribution is the long-run average or mean value of a random variable if an experiment is repeated many times. It represents the “center of gravity” of the distribution.\n",
        "For a random variable XXX:\n",
        "Discrete case:\n",
        "\n",
        "Continuous case:\n",
        "\n",
        "\n",
        "\n",
        "Interpretation:\n",
        "It is the weighted average of all possible values of the random variable, with probabilities as weights.\n",
        "\n",
        "\n",
        "Example: If a dice is rolled,\n",
        "\n",
        "Even though 3.5 is not a possible outcome, it’s the average over the long run.\n"
      ],
      "metadata": {
        "id": "RqqHeUx2BYE-"
      }
    },
    {
      "cell_type": "code",
      "source": [
        "#Question 9: Write a Python program to generate 1000 random numbers from a normal distribution with mean = 50 and standard deviation = 5. Compute its mean and standard deviation using NumPy, and draw a histogram to visualize the distribution. (Include your Python code and output in the code box below.)\n",
        "\n",
        "#ANS\n",
        "# Import necessary libraries\n",
        "import numpy as np\n",
        "import matplotlib.pyplot as plt\n",
        "\n",
        "# Set parameters\n",
        "mean = 50\n",
        "std_dev = 5\n",
        "num_samples = 1000\n",
        "\n",
        "# Generate 1000 random numbers from normal distribution\n",
        "data = np.random.normal(loc=mean, scale=std_dev, size=num_samples)\n",
        "\n",
        "# Compute mean and standard deviation\n",
        "calculated_mean = np.mean(data)\n",
        "calculated_std = np.std(data)\n",
        "\n",
        "print(f\"Calculated Mean: {calculated_mean:.2f}\")\n",
        "print(f\"Calculated Standard Deviation: {calculated_std:.2f}\")\n",
        "\n",
        "# Plot histogram\n",
        "plt.figure(figsize=(8,5))\n",
        "plt.hist(data, bins=30, color='skyblue', edgecolor='black')\n",
        "plt.title('Histogram of Normally Distributed Data')\n",
        "plt.xlabel('Value')\n",
        "plt.ylabel('Frequency')\n",
        "plt.grid(True)\n",
        "plt.show()\n"
      ],
      "metadata": {
        "colab": {
          "base_uri": "https://localhost:8080/",
          "height": 522
        },
        "id": "O3si5_raBmc9",
        "outputId": "3c0b1d8f-e00f-4115-91e9-5eb6d4086918"
      },
      "execution_count": 1,
      "outputs": [
        {
          "output_type": "stream",
          "name": "stdout",
          "text": [
            "Calculated Mean: 49.81\n",
            "Calculated Standard Deviation: 5.08\n"
          ]
        },
        {
          "output_type": "display_data",
          "data": {
            "text/plain": [
              "<Figure size 800x500 with 1 Axes>"
            ],
            "image/png": "[encoded data removed]"
          },
          "metadata": {}
        }
      ]
    },
    {
      "cell_type": "code",
      "source": [
        "#Question 10: You are working as a data analyst for a retail company. The company has collected daily sales data for 2 years and wants you to identify the overall sales trend. daily_sales = [220, 245, 210, 265, 230, 250, 260, 275, 240, 255, 235, 260, 245, 250, 225, 270, 265, 255, 250, 260] ● Explain how you would apply the Central Limit Theorem to estimate the average sales with a 95% confidence interval. ● Write the Python code to compute the mean sales and its confidence interval.\n",
        "\n",
        "#ANS\n",
        "#1: Applying the Central Limit Theorem (CLT)\n",
        "#The daily sales data represents a sample of all possible daily sales.\n",
        "\n",
        "#According to the CLT, if we take repeated random samples of daily sales, the sampling distribution of the sample mean will be approximately normal, even if the underlying data isn’t perfectly normal, provided the sample size is reasonably large.\n",
        "\n",
        "#This allows us to compute a confidence interval (CI) for the population mean (true average daily sales).\n",
        "\n",
        "#A 95% confidence interval gives a range in which we are 95% confident that the true average daily sales lies.\n",
        "\n",
        "#The formula for a 95% CI for the mean is:\n",
        "\n",
        "#xˉ\\bar{x}xˉ = sample mean\n",
        "\n",
        "#sss = sample standard deviation\n",
        "\n",
        "#nnn = sample size\n",
        "\n",
        "#zα/2=1.96z_{\\alpha/2} = 1.96zα/2​=1.96 for 95% confidene\n",
        "\n",
        "\n",
        "import numpy as np\n",
        "from scipy import stats\n",
        "\n",
        "# Daily sales data\n",
        "daily_sales = [220, 245, 210, 265, 230, 250, 260, 275, 240, 255,\n",
        "               235, 260, 245, 250, 225, 270, 265, 255, 250, 260]\n",
        "\n",
        "# Convert to numpy array\n",
        "sales = np.array(daily_sales)\n",
        "\n",
        "# Sample mean and standard deviation\n",
        "mean_sales = np.mean(sales)\n",
        "std_sales = np.std(sales, ddof=1)  # ddof=1 for sample std deviation\n",
        "n = len(sales)\n",
        "\n",
        "# 95% confidence interval using z-value\n",
        "confidence_level = 0.95\n",
        "z = stats.norm.ppf(0.975)  # two-tailed 95% CI\n",
        "\n",
        "margin_of_error = z * (std_sales / np.sqrt(n))\n",
        "ci_lower = mean_sales - margin_of_error\n",
        "ci_upper = mean_sales + margin_of_error\n",
        "\n",
        "print(f\"Mean Daily Sales: {mean_sales:.2f}\")\n",
        "print(f\"95% Confidence Interval: ({ci_lower:.2f}, {ci_upper:.2f})\")\n"
      ],
      "metadata": {
        "colab": {
          "base_uri": "https://localhost:8080/"
        },
        "id": "r4ywiJiZB1xA",
        "outputId": "8534baef-4ce8-4e3c-9a40-15b75529843c"
      },
      "execution_count": 2,
      "outputs": [
        {
          "output_type": "stream",
          "name": "stdout",
          "text": [
            "Mean Daily Sales: 248.25\n",
            "95% Confidence Interval: (240.68, 255.82)\n"
          ]
        }
      ]
    }
  ]
}